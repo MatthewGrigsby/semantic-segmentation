{
 "cells": [
  {
   "cell_type": "code",
   "execution_count": 2,
   "metadata": {},
   "outputs": [],
   "source": [
    "from patchify import patchify\n",
    "from PIL import Image\n",
    "import cv2\n",
    "import numpy as np\n",
    "import splitfolders\n",
    "import shutil\n",
    "\n",
    "from prep_data import *"
   ]
  },
  {
   "cell_type": "markdown",
   "metadata": {},
   "source": [
    "---\n",
    "\n",
    "### Define helper function(s)"
   ]
  },
  {
   "cell_type": "code",
   "execution_count": 3,
   "metadata": {},
   "outputs": [],
   "source": [
    "def move_files(source, destination):\n",
    "    # gather all files\n",
    "    allfiles = os.listdir(source)\n",
    "    # iterate on all files to move them to destination folder\n",
    "    for f in allfiles:\n",
    "        src_path = os.path.join(source, f)\n",
    "        dst_path = os.path.join(destination, f)\n",
    "        shutil.move(src_path, dst_path)"
   ]
  },
  {
   "cell_type": "markdown",
   "metadata": {},
   "source": [
    "---\n",
    "\n",
    "### Patch large image into smaller pieces"
   ]
  },
  {
   "cell_type": "code",
   "execution_count": 4,
   "metadata": {},
   "outputs": [],
   "source": [
    "patch_size = 1024\n",
    "prep_images = PrepImages(\n",
    "    image_directory_path='../data/images', \n",
    "    mask_directory_path='../data/masks',\n",
    "    root_directory_path='../data/',\n",
    "    patch_size=patch_size, \n",
    "    overlap = 0.2\n",
    ")"
   ]
  },
  {
   "cell_type": "code",
   "execution_count": 5,
   "metadata": {},
   "outputs": [
    {
     "name": "stdout",
     "output_type": "stream",
     "text": [
      "Deleted images/masks in:  ../data/n1024_patches\n"
     ]
    }
   ],
   "source": [
    "remove_directories = ['n' + str(patch_size) + \"_patches\"]\n",
    "for dir in remove_directories: \n",
    "    # print(dir)\n",
    "    if dir in os.listdir(prep_images.root_directory_path): \n",
    "        shutil.rmtree(prep_images.root_directory_path + dir)\n",
    "        print('Deleted images/masks in: ', prep_images.root_directory_path + dir)\n",
    "    os.mkdir(prep_images.root_directory_path + dir)\n",
    "    os.mkdir(prep_images.root_directory_path + dir + '/images')\n",
    "    os.mkdir(prep_images.root_directory_path + dir + '/masks')\n",
    "    os.mkdir(prep_images.root_directory_path + dir + '/images_with_useful_info')\n",
    "    os.mkdir(prep_images.root_directory_path + dir + '/images_with_useful_info/masks')\n",
    "    os.mkdir(prep_images.root_directory_path + dir + '/images_with_useful_info/images')"
   ]
  },
  {
   "cell_type": "code",
   "execution_count": 6,
   "metadata": {},
   "outputs": [
    {
     "name": "stdout",
     "output_type": "stream",
     "text": [
      "../data/images/base_cropped.tif\n",
      "Saved 128 images patches of 1024 x 1024 dimensions at: ../data/n1024_patches/images\n",
      "../data/masks/base_mask.tif\n",
      "Saved 136 masks patches of 1024 x 1024 dimensions at: ../data/n1024_patches/masks\n",
      "../data/masks/base_mask_cropped.tif\n",
      "Saved 128 masks patches of 1024 x 1024 dimensions at: ../data/n1024_patches/masks\n"
     ]
    }
   ],
   "source": [
    "prep_images.create_patches()"
   ]
  },
  {
   "cell_type": "markdown",
   "metadata": {},
   "source": [
    "---\n",
    "\n",
    "### Remove images without sufficient class info"
   ]
  },
  {
   "cell_type": "code",
   "execution_count": 7,
   "metadata": {},
   "outputs": [
    {
     "name": "stdout",
     "output_type": "stream",
     "text": [
      "Total useful images are:  84\n",
      "Total less-useful images are:  44\n"
     ]
    }
   ],
   "source": [
    "prep_images.remove_1class_images()"
   ]
  },
  {
   "cell_type": "markdown",
   "metadata": {},
   "source": [
    "### Split up data into train/test folders "
   ]
  },
  {
   "cell_type": "code",
   "execution_count": 8,
   "metadata": {},
   "outputs": [
    {
     "name": "stderr",
     "output_type": "stream",
     "text": [
      "Copying files: 168 files [00:00, 351.79 files/s]\n"
     ]
    }
   ],
   "source": [
    "input_folder = '../data/n' + str(patch_size) + '_patches/images_with_useful_info/'\n",
    "output_folder = '../data/data_for_training_and_testing_' + 'n' + str(patch_size) + '/'\n",
    "if os.path.exists(output_folder): \n",
    "    shutil.rmtree(output_folder)\n",
    "splitfolders.ratio(input_folder, output=output_folder, seed=100, ratio=(.90, .10), group_prefix=None)"
   ]
  },
  {
   "cell_type": "markdown",
   "metadata": {},
   "source": [
    "---\n",
    "\n",
    "### Move data into correct directory structure for training"
   ]
  },
  {
   "cell_type": "code",
   "execution_count": 9,
   "metadata": {},
   "outputs": [],
   "source": [
    "remove_directories = ['train_images', 'train_masks', 'val_images', 'val_masks']\n",
    "for dir in remove_directories: \n",
    "    if dir in os.listdir(output_folder): \n",
    "        shutil.rmtree(output_folder + dir)\n",
    "        print('Deleted files in: ', dir)\n",
    "    os.mkdir(output_folder + dir)\n",
    "    if dir in ['train_images', 'train_masks']: \n",
    "        os.mkdir(output_folder + dir + '/train')\n",
    "    else: \n",
    "        os.mkdir(output_folder + dir + '/val')"
   ]
  },
  {
   "cell_type": "code",
   "execution_count": 10,
   "metadata": {},
   "outputs": [],
   "source": [
    "move_files(output_folder + '/train/images/', output_folder + '/train_images/train/')\n",
    "move_files(output_folder + '/train/masks/', output_folder + '/train_masks/train')\n",
    "move_files(output_folder + '/val/images/', output_folder + '/val_images/val/')\n",
    "move_files(output_folder + '/val/masks/', output_folder + '/val_masks/val')"
   ]
  },
  {
   "cell_type": "code",
   "execution_count": 11,
   "metadata": {},
   "outputs": [],
   "source": [
    "shutil.rmtree(output_folder + '/train')\n",
    "shutil.rmtree(output_folder + '/val')"
   ]
  },
  {
   "cell_type": "code",
   "execution_count": null,
   "metadata": {},
   "outputs": [],
   "source": []
  }
 ],
 "metadata": {
  "kernelspec": {
   "display_name": "Python 3.9.13 ('test')",
   "language": "python",
   "name": "python3"
  },
  "language_info": {
   "codemirror_mode": {
    "name": "ipython",
    "version": 3
   },
   "file_extension": ".py",
   "mimetype": "text/x-python",
   "name": "python",
   "nbconvert_exporter": "python",
   "pygments_lexer": "ipython3",
   "version": "3.8.16"
  },
  "orig_nbformat": 4,
  "vscode": {
   "interpreter": {
    "hash": "59e573cfc50a57416507e1a7b15d4b6df1a204eb98968e4eb1920ef3eed23e29"
   }
  }
 },
 "nbformat": 4,
 "nbformat_minor": 2
}
