{
 "cells": [
  {
   "cell_type": "code",
   "execution_count": 1,
   "metadata": {},
   "outputs": [],
   "source": [
    "import cv2\n",
    "import numpy as np"
   ]
  },
  {
   "cell_type": "markdown",
   "metadata": {},
   "source": [
    "### Create pretty image with transparent mask overlayed \n",
    "\n",
    "---"
   ]
  },
  {
   "cell_type": "code",
   "execution_count": 2,
   "metadata": {},
   "outputs": [],
   "source": [
    "image = cv2.imread(\"../data/images/base_cropped.tif\", cv2.COLOR_BGR2RGB) \n",
    "mask = cv2.imread(\"../data/masks/base_mask_cropped.tif\") "
   ]
  },
  {
   "cell_type": "code",
   "execution_count": 3,
   "metadata": {},
   "outputs": [],
   "source": [
    "black = (0, 0, 0)\n",
    "yellow = (255, 255, 000)\n",
    "orange = (255, 150, 000) \n",
    "red = (255, 000, 000)\n",
    "green = (000, 255, 000)\n",
    "pink = (255, 145, 200)\n",
    "purple = (155, 55, 225) \n",
    "blue = (000, 000, 255)\n",
    "white = (255, 255, 255)\n",
    "grey = (127, 127, 127)\n",
    "\n",
    "segment_colors = [\n",
    "    black,\n",
    "    yellow, \n",
    "    orange, \n",
    "    red, \n",
    "    green, \n",
    "    # pink, \n",
    "    purple,\n",
    "    # blue,\n",
    "    grey\n",
    "]"
   ]
  },
  {
   "cell_type": "code",
   "execution_count": 4,
   "metadata": {},
   "outputs": [
    {
     "name": "stdout",
     "output_type": "stream",
     "text": [
      "0  =  (0, 0, 0)\n",
      "1  =  (255, 255, 0)\n",
      "2  =  (255, 150, 0)\n",
      "3  =  (255, 0, 0)\n",
      "4  =  (0, 255, 0)\n",
      "5  =  (155, 55, 225)\n",
      "6  =  (127, 127, 127)\n"
     ]
    }
   ],
   "source": [
    "new_mask = np.zeros((image.shape[0], image.shape[1], 3))\n",
    "for i, color in enumerate(segment_colors):\n",
    "    print(i, ' = ', color)\n",
    "    new_mask[np.all(mask == i,  axis=-1)] = color[::-1]\n",
    "# cv2.imwrite('../data/annotations/base_mask_v1.png', new_mask)"
   ]
  },
  {
   "cell_type": "code",
   "execution_count": 5,
   "metadata": {},
   "outputs": [
    {
     "name": "stdout",
     "output_type": "stream",
     "text": [
      "(6667, 12493, 3)\n",
      "(6667, 12493, 3)\n"
     ]
    }
   ],
   "source": [
    "image = image.astype('float32')\n",
    "new_mask = new_mask.astype('float32')\n",
    "\n",
    "print(image.shape)\n",
    "print(new_mask.shape)"
   ]
  },
  {
   "cell_type": "code",
   "execution_count": 6,
   "metadata": {},
   "outputs": [
    {
     "data": {
      "text/plain": [
       "True"
      ]
     },
     "execution_count": 6,
     "metadata": {},
     "output_type": "execute_result"
    }
   ],
   "source": [
    "alpha = float(.5)\n",
    "pretty = cv2.addWeighted(image, alpha , new_mask, 1 - alpha, 0)\n",
    "cv2.imwrite('../data/annotations/base_image_mask_combined_pretty.png', pretty)"
   ]
  },
  {
   "cell_type": "markdown",
   "metadata": {},
   "source": [
    "--- \n",
    "\n",
    "### Create new cleaned version of image for annotation "
   ]
  },
  {
   "cell_type": "code",
   "execution_count": 7,
   "metadata": {},
   "outputs": [
    {
     "name": "stdout",
     "output_type": "stream",
     "text": [
      "0  =  (255, 255, 0)\n",
      "1  =  (255, 150, 0)\n",
      "2  =  (255, 0, 0)\n",
      "3  =  (0, 255, 0)\n",
      "4  =  (155, 55, 225)\n"
     ]
    },
    {
     "data": {
      "text/plain": [
       "True"
      ]
     },
     "execution_count": 7,
     "metadata": {},
     "output_type": "execute_result"
    }
   ],
   "source": [
    "for_annotating = image.copy()\n",
    "for i, color in enumerate(segment_colors[1:]):\n",
    "    print(i, ' = ', color)\n",
    "    for_annotating[np.all(mask == i + 1,  axis=-1)] = color[::-1]\n",
    "cv2.imwrite('../data/annotations/annotated_image_v1.png', for_annotating)"
   ]
  },
  {
   "cell_type": "code",
   "execution_count": null,
   "metadata": {},
   "outputs": [],
   "source": []
  },
  {
   "cell_type": "code",
   "execution_count": null,
   "metadata": {},
   "outputs": [],
   "source": []
  },
  {
   "cell_type": "code",
   "execution_count": null,
   "metadata": {},
   "outputs": [],
   "source": []
  },
  {
   "cell_type": "code",
   "execution_count": null,
   "metadata": {},
   "outputs": [],
   "source": []
  }
 ],
 "metadata": {
  "kernelspec": {
   "display_name": "Python 3.9.13 ('test')",
   "language": "python",
   "name": "python3"
  },
  "language_info": {
   "codemirror_mode": {
    "name": "ipython",
    "version": 3
   },
   "file_extension": ".py",
   "mimetype": "text/x-python",
   "name": "python",
   "nbconvert_exporter": "python",
   "pygments_lexer": "ipython3",
   "version": "3.9.13"
  },
  "orig_nbformat": 4,
  "vscode": {
   "interpreter": {
    "hash": "59e573cfc50a57416507e1a7b15d4b6df1a204eb98968e4eb1920ef3eed23e29"
   }
  }
 },
 "nbformat": 4,
 "nbformat_minor": 2
}
