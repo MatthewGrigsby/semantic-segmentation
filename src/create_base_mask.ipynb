{
 "cells": [
  {
   "cell_type": "code",
   "execution_count": 1,
   "metadata": {},
   "outputs": [],
   "source": [
    "import os\n",
    "import cv2\n",
    "import numpy as np\n",
    "import glob\n",
    "import pandas as pd\n",
    "import matplotlib.pyplot as plt\n",
    "\n",
    "os.environ[\"OPENCV_IO_MAX_IMAGE_PIXELS\"] = pow(2,60).__str__()\n",
    "# os.environ[\"OPENCV_OPENCL_DEVICE\"] = \"disabled\""
   ]
  },
  {
   "cell_type": "markdown",
   "metadata": {},
   "source": [
    "---\n",
    "\n",
    "# Create base mask"
   ]
  },
  {
   "cell_type": "code",
   "execution_count": 2,
   "metadata": {},
   "outputs": [
    {
     "data": {
      "text/plain": [
       "(6667, 13333, 3)"
      ]
     },
     "execution_count": 2,
     "metadata": {},
     "output_type": "execute_result"
    }
   ],
   "source": [
    "img = cv2.imread('../data/annotations/annotated_image_v4.png', 1)\n",
    "img = cv2.cvtColor(img, cv2.COLOR_BGR2RGB)\n",
    "img.shape"
   ]
  },
  {
   "cell_type": "code",
   "execution_count": 3,
   "metadata": {},
   "outputs": [],
   "source": [
    "yellow = (255, 255, 000)\n",
    "orange = (255, 150, 000) \n",
    "red = (255, 000, 000)\n",
    "green = (000, 255, 000)\n",
    "pink = (255, 145, 200)\n",
    "purple = (155, 55, 225) \n",
    "blue = (000, 000, 255)\n",
    "# white = (255, 255, 255)\n",
    "# grey = (127, 127, 127)"
   ]
  },
  {
   "cell_type": "code",
   "execution_count": 4,
   "metadata": {},
   "outputs": [],
   "source": [
    "# change pink to purple (industrial + commercial)\n",
    "pink_mask = cv2.inRange(img, pink, pink)\n",
    "img[pink_mask > 0] = purple\n",
    "\n",
    "# change blue to orange (townhouse + house)\n",
    "blue_mask = cv2.inRange(img, blue, blue)\n",
    "img[blue_mask > 0] = orange"
   ]
  },
  {
   "cell_type": "code",
   "execution_count": 5,
   "metadata": {},
   "outputs": [],
   "source": [
    "segment_colors = [\n",
    "    yellow, \n",
    "    orange, \n",
    "    red, \n",
    "    green, \n",
    "    # pink, \n",
    "    purple,\n",
    "    # blue\n",
    "    # grey,\n",
    "]"
   ]
  },
  {
   "cell_type": "code",
   "execution_count": 6,
   "metadata": {},
   "outputs": [
    {
     "name": "stdout",
     "output_type": "stream",
     "text": [
      "(255, 255, 0)  =  1\n",
      "(255, 150, 0)  =  2\n",
      "(255, 0, 0)  =  3\n",
      "(0, 255, 0)  =  4\n",
      "(155, 55, 225)  =  5\n"
     ]
    }
   ],
   "source": [
    "mask = np.zeros((img.shape[0], img.shape[1])).astype('int8')\n",
    "for i, color in enumerate(segment_colors):\n",
    "    print(color, ' = ', i + 1)\n",
    "    mask[np.all(img == color,  axis=-1)] = i + 1"
   ]
  },
  {
   "cell_type": "code",
   "execution_count": 7,
   "metadata": {},
   "outputs": [
    {
     "name": "stdout",
     "output_type": "stream",
     "text": [
      "Mask shape:  (6667, 13333)\n",
      "Mask dtype:  int8\n",
      "Classes:  [0 1 2 3 4 5]\n",
      "Number of classes:  6\n"
     ]
    }
   ],
   "source": [
    "print('Mask shape: ', mask.shape)\n",
    "print('Mask dtype: ', mask.dtype)\n",
    "\n",
    "classes = np.unique(mask)\n",
    "print('Classes: ', classes)\n",
    "print('Number of classes: ', len(classes))"
   ]
  },
  {
   "cell_type": "code",
   "execution_count": 8,
   "metadata": {},
   "outputs": [
    {
     "data": {
      "text/plain": [
       "True"
      ]
     },
     "execution_count": 8,
     "metadata": {},
     "output_type": "execute_result"
    }
   ],
   "source": [
    "cv2.imwrite('../data/masks/base_mask.tif', mask)"
   ]
  },
  {
   "cell_type": "code",
   "execution_count": null,
   "metadata": {},
   "outputs": [],
   "source": []
  },
  {
   "cell_type": "code",
   "execution_count": null,
   "metadata": {},
   "outputs": [],
   "source": []
  },
  {
   "cell_type": "code",
   "execution_count": null,
   "metadata": {},
   "outputs": [],
   "source": []
  }
 ],
 "metadata": {
  "kernelspec": {
   "display_name": "Python 3.9.13 ('test')",
   "language": "python",
   "name": "python3"
  },
  "language_info": {
   "codemirror_mode": {
    "name": "ipython",
    "version": 3
   },
   "file_extension": ".py",
   "mimetype": "text/x-python",
   "name": "python",
   "nbconvert_exporter": "python",
   "pygments_lexer": "ipython3",
   "version": "3.8.16"
  },
  "orig_nbformat": 4,
  "vscode": {
   "interpreter": {
    "hash": "59e573cfc50a57416507e1a7b15d4b6df1a204eb98968e4eb1920ef3eed23e29"
   }
  }
 },
 "nbformat": 4,
 "nbformat_minor": 2
}
